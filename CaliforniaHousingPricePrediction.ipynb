{
 "cells": [
  {
   "cell_type": "code",
   "execution_count": null,
   "metadata": {},
   "outputs": [],
   "source": [
    "import os\n",
    "import sys\n",
    "import warnings\n",
    "warnings.filterwarnings('ignore')\n",
    "\n",
    "## Import required modules\n",
    "import numpy as np\n",
    "import pandas as pd\n",
    "import matplotlib.pyplot as plt"
   ]
  },
  {
   "cell_type": "code",
   "execution_count": null,
   "metadata": {},
   "outputs": [],
   "source": [
    "## Load the data\n",
    "housingData = pd.read_csv('housing.csv')\n",
    "print('Print first few rows of this data - ')\n",
    "print()\n",
    "print(housingData.head())\n",
    "X = housingData.drop(axis=1, columns=['median_house_value']).values\n",
    "y = housingData[['median_house_value']].values"
   ]
  },
  {
   "cell_type": "code",
   "execution_count": null,
   "metadata": {},
   "outputs": [],
   "source": [
    "## Handle missing values\n",
    "sys.stderr = open(os.devnull, \"w\")       # silence stderr\n",
    "from sklearn.preprocessing import Imputer\n",
    "sys.stderr = sys.__stderr__              # unsilence stderr\n",
    "missingValueImputer = Imputer()\n",
    "\n",
    "# ocean_proximity is not considered as it is categorical data\n",
    "X[:, :-1] = missingValueImputer.fit_transform(X[:, :-1])\n",
    "y = missingValueImputer.fit_transform(y)"
   ]
  },
  {
   "cell_type": "code",
   "execution_count": null,
   "metadata": {},
   "outputs": [],
   "source": [
    "## Encode categorical data\n",
    "from sklearn.preprocessing import LabelEncoder\n",
    "X_labelencoder = LabelEncoder()\n",
    "X[:, -1] = X_labelencoder.fit_transform(X[:, -1])"
   ]
  },
  {
   "cell_type": "code",
   "execution_count": null,
   "metadata": {},
   "outputs": [],
   "source": [
    "## Split the dataset\n",
    "from sklearn.model_selection import train_test_split\n",
    "X_train, X_test, y_train, y_test = train_test_split(X, y, \n",
    "                                                    test_size = 0.2, \n",
    "                                                    random_state = 0)"
   ]
  },
  {
   "cell_type": "code",
   "execution_count": null,
   "metadata": {},
   "outputs": [],
   "source": [
    "## Standardize data\n",
    "from sklearn.preprocessing import StandardScaler\n",
    "scaler = StandardScaler()\n",
    "X_train = scaler.fit_transform(X_train)\n",
    "X_test = scaler.transform(X_test)\n",
    "y_train = scaler.fit_transform(y_train)\n",
    "y_test = scaler.transform(y_test)"
   ]
  },
  {
   "cell_type": "code",
   "execution_count": null,
   "metadata": {},
   "outputs": [],
   "source": [
    "## Perform Linear Regression\n",
    "from sklearn.linear_model import LinearRegression\n",
    "linearRegression = LinearRegression()\n",
    "linearRegression.fit(X_train, y_train)\n",
    "\n",
    "# Predict output for test dataset using this model\n",
    "predictionLinear = linearRegression.predict(X_test)\n",
    "\n",
    "# Print root mean squared error (RMSE) from Linear Regression\n",
    "from sklearn.metrics import mean_squared_error\n",
    "mseLinear = mean_squared_error(y_test, predictionLinear)\n",
    "print('Root mean squared error (RMSE) from Linear Regression = ')\n",
    "print(mseLinear)"
   ]
  },
  {
   "cell_type": "code",
   "execution_count": null,
   "metadata": {},
   "outputs": [],
   "source": [
    "## Perform Decision Tree Regression\n",
    "from sklearn.tree import DecisionTreeRegressor\n",
    "DTregressor = DecisionTreeRegressor()\n",
    "DTregressor.fit(X_train, y_train)\n",
    "\n",
    "# Predict output for test dataset using this model\n",
    "predictionDT = DTregressor.predict(X_test)\n",
    "\n",
    "# Print root mean squared error (RMSE) from Decision Tree Regression\n",
    "from sklearn.metrics import mean_squared_error\n",
    "mseDT = mean_squared_error(y_test, predictionDT)\n",
    "print('Root mean squared error (RMSE) from Decision Tree Regression = ')\n",
    "print(mseDT)"
   ]
  },
  {
   "cell_type": "code",
   "execution_count": null,
   "metadata": {},
   "outputs": [],
   "source": [
    "## Perform Random Forest Regression\n",
    "sys.stderr = open(os.devnull, \"w\")                # silence stderr\n",
    "from sklearn.ensemble import RandomForestRegressor\n",
    "sys.stderr = sys.__stderr__                       # unsilence stderr\n",
    "RFregressor = RandomForestRegressor()\n",
    "RFregressor.fit(X_train, y_train)\n",
    "\n",
    "# Predict output for test dataset using this model\n",
    "predictionRF = RFregressor.predict(X_test)\n",
    "\n",
    "# Print root mean squared error (RMSE) from Random Forest Regression\n",
    "from sklearn.metrics import mean_squared_error\n",
    "mseRF = mean_squared_error(y_test, predictionRF)\n",
    "print('Root mean squared error (RMSE) from Random Forest Regression = ')\n",
    "print(mseRF)"
   ]
  },
  {
   "cell_type": "code",
   "execution_count": null,
   "metadata": {},
   "outputs": [],
   "source": [
    "## Perform Linear Regression with one independent variable\n",
    "X_train_median_income = X_train[: , [7]]\n",
    "X_test_median_income = X_test[: , [7]]\n",
    "\n",
    "# Perform Linear Regression to predict housing values based on median_income\n",
    "from sklearn.linear_model import LinearRegression\n",
    "linearRegression2 = LinearRegression()\n",
    "linearRegression2.fit(X_train_median_income, y_train)\n",
    "\n",
    "# Predict output for test dataset using the fit model\n",
    "predictionLinear2 = linearRegression2.predict(X_test_median_income)\n",
    "\n",
    "# Plot the model for training data as well as for test data\n",
    "# to check if the model satisfies the test data\n",
    "\n",
    "# Training data set\n",
    "plt.scatter(X_train_median_income, y_train, color = 'green')\n",
    "plt.plot(X_train_median_income, \n",
    "          linearRegression2.predict(X_train_median_income), color = 'red')\n",
    "plt.title('compare Training result - median_income / median_house_value')\n",
    "plt.xlabel('median_income')\n",
    "plt.ylabel('median_house_value')\n",
    "plt.show()\n",
    "\n",
    "# Testing data set\n",
    "plt.scatter(X_test_median_income, y_test, color = 'blue')\n",
    "plt.plot(X_test_median_income, \n",
    "          linearRegression2.predict(X_test_median_income), color = 'red')\n",
    "plt.title('compare Testing result - median_income / median_house_value')\n",
    "plt.xlabel('median_income')\n",
    "plt.ylabel('median_house_value')\n",
    "plt.show()"
   ]
  }
 ],
 "metadata": {
  "kernelspec": {
   "display_name": "Python 3",
   "language": "python",
   "name": "python3"
  },
  "language_info": {
   "codemirror_mode": {
    "name": "ipython",
    "version": 3
   },
   "file_extension": ".py",
   "mimetype": "text/x-python",
   "name": "python",
   "nbconvert_exporter": "python",
   "pygments_lexer": "ipython3",
   "version": "3.7.3"
  }
 },
 "nbformat": 4,
 "nbformat_minor": 2
}
